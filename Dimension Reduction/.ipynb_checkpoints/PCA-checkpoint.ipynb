{
 "cells": [
  {
   "cell_type": "markdown",
   "metadata": {
    "pycharm": {
     "name": "#%% md\n"
    }
   },
   "source": [
    "# PCA"
   ]
  },
  {
   "cell_type": "code",
   "execution_count": 28,
   "metadata": {
    "collapsed": true,
    "pycharm": {
     "name": "#%%\n"
    }
   },
   "outputs": [],
   "source": [
    "import numpy as np\n",
    "import pandas as pd\n",
    "from sklearn import datasets, metrics\n",
    "import matplotlib.pyplot as plt\n",
    "import seaborn as sns\n",
    "from matplotlib.ticker import MaxNLocator\n",
    "import numpy as np\n",
    "import math\n",
    "from sklearn.decomposition import PCA\n",
    "import requests\n"
   ]
  },
  {
   "cell_type": "code",
   "execution_count": 29,
   "metadata": {
    "pycharm": {
     "name": "#%%\n"
    }
   },
   "outputs": [
    {
     "name": "stdout",
     "output_type": "stream",
     "text": [
      "<class 'pandas.core.frame.DataFrame'>\n",
      "RangeIndex: 36275 entries, 0 to 36274\n",
      "Data columns (total 19 columns):\n",
      " #   Column                                Non-Null Count  Dtype  \n",
      "---  ------                                --------------  -----  \n",
      " 0   Booking_ID                            36275 non-null  object \n",
      " 1   no_of_adults                          36275 non-null  int64  \n",
      " 2   no_of_children                        36275 non-null  int64  \n",
      " 3   no_of_weekend_nights                  36275 non-null  int64  \n",
      " 4   no_of_week_nights                     36275 non-null  int64  \n",
      " 5   type_of_meal_plan                     36275 non-null  object \n",
      " 6   required_car_parking_space            36275 non-null  int64  \n",
      " 7   room_type_reserved                    36275 non-null  object \n",
      " 8   lead_time                             36275 non-null  int64  \n",
      " 9   arrival_year                          36275 non-null  int64  \n",
      " 10  arrival_month                         36275 non-null  int64  \n",
      " 11  arrival_date                          36275 non-null  int64  \n",
      " 12  market_segment_type                   36275 non-null  object \n",
      " 13  repeated_guest                        36275 non-null  int64  \n",
      " 14  no_of_previous_cancellations          36275 non-null  int64  \n",
      " 15  no_of_previous_bookings_not_canceled  36275 non-null  int64  \n",
      " 16  avg_price_per_room                    36275 non-null  float64\n",
      " 17  no_of_special_requests                36275 non-null  int64  \n",
      " 18  booking_status                        36275 non-null  object \n",
      "dtypes: float64(1), int64(13), object(5)\n",
      "memory usage: 5.3+ MB\n"
     ]
    }
   ],
   "source": [
    "# loading the data\n",
    "url=\"https://raw.githubusercontent.com/KelvinYQC/msia420PA_project/6bb5fe63050105194819f99c90476486076e5227/Data/Hotel%20Reservations.csv\"\n",
    "df=pd.read_csv(url)\n",
    "df.info()"
   ]
  },
  {
   "cell_type": "code",
   "execution_count": 30,
   "metadata": {
    "pycharm": {
     "name": "#%%\n"
    }
   },
   "outputs": [
    {
     "data": {
      "text/plain": [
       "['type_of_meal_plan', 'room_type_reserved', 'market_segment_type']"
      ]
     },
     "execution_count": 30,
     "metadata": {},
     "output_type": "execute_result"
    }
   ],
   "source": [
    "# drop the response variable\n",
    "df.drop(['Booking_ID', 'booking_status'], axis=1, inplace=True)\n",
    "dropping = []\n",
    "for col in df:\n",
    "    if df[col].dtypes == \"object\":\n",
    "        dropping.append(col)\n",
    "dropping"
   ]
  },
  {
   "cell_type": "code",
   "execution_count": 31,
   "metadata": {
    "pycharm": {
     "name": "#%%\n"
    }
   },
   "outputs": [],
   "source": [
    "df= df.drop(dropping,axis=1)\n",
    "df = pd.get_dummies(df)"
   ]
  },
  {
   "cell_type": "code",
   "execution_count": 32,
   "metadata": {
    "pycharm": {
     "name": "#%%\n"
    }
   },
   "outputs": [
    {
     "data": {
      "text/html": [
       "<div>\n",
       "<style scoped>\n",
       "    .dataframe tbody tr th:only-of-type {\n",
       "        vertical-align: middle;\n",
       "    }\n",
       "\n",
       "    .dataframe tbody tr th {\n",
       "        vertical-align: top;\n",
       "    }\n",
       "\n",
       "    .dataframe thead th {\n",
       "        text-align: right;\n",
       "    }\n",
       "</style>\n",
       "<table border=\"1\" class=\"dataframe\">\n",
       "  <thead>\n",
       "    <tr style=\"text-align: right;\">\n",
       "      <th></th>\n",
       "      <th>no_of_adults</th>\n",
       "      <th>no_of_children</th>\n",
       "      <th>no_of_weekend_nights</th>\n",
       "      <th>no_of_week_nights</th>\n",
       "      <th>required_car_parking_space</th>\n",
       "      <th>lead_time</th>\n",
       "      <th>arrival_year</th>\n",
       "      <th>arrival_month</th>\n",
       "      <th>arrival_date</th>\n",
       "      <th>repeated_guest</th>\n",
       "      <th>no_of_previous_cancellations</th>\n",
       "      <th>no_of_previous_bookings_not_canceled</th>\n",
       "      <th>avg_price_per_room</th>\n",
       "      <th>no_of_special_requests</th>\n",
       "    </tr>\n",
       "  </thead>\n",
       "  <tbody>\n",
       "    <tr>\n",
       "      <th>0</th>\n",
       "      <td>0.155038</td>\n",
       "      <td>-0.105279</td>\n",
       "      <td>0.189276</td>\n",
       "      <td>-0.2043</td>\n",
       "      <td>-0.030986</td>\n",
       "      <td>138.767443</td>\n",
       "      <td>-0.820427</td>\n",
       "      <td>2.576347</td>\n",
       "      <td>-13.596995</td>\n",
       "      <td>-0.025637</td>\n",
       "      <td>-0.023349</td>\n",
       "      <td>-0.153411</td>\n",
       "      <td>-38.423539</td>\n",
       "      <td>-0.619655</td>\n",
       "    </tr>\n",
       "    <tr>\n",
       "      <th>1</th>\n",
       "      <td>0.155038</td>\n",
       "      <td>-0.105279</td>\n",
       "      <td>1.189276</td>\n",
       "      <td>0.7957</td>\n",
       "      <td>-0.030986</td>\n",
       "      <td>-80.232557</td>\n",
       "      <td>0.179573</td>\n",
       "      <td>3.576347</td>\n",
       "      <td>-9.596995</td>\n",
       "      <td>-0.025637</td>\n",
       "      <td>-0.023349</td>\n",
       "      <td>-0.153411</td>\n",
       "      <td>3.256461</td>\n",
       "      <td>0.380345</td>\n",
       "    </tr>\n",
       "    <tr>\n",
       "      <th>2</th>\n",
       "      <td>-0.844962</td>\n",
       "      <td>-0.105279</td>\n",
       "      <td>1.189276</td>\n",
       "      <td>-1.2043</td>\n",
       "      <td>-0.030986</td>\n",
       "      <td>-84.232557</td>\n",
       "      <td>0.179573</td>\n",
       "      <td>-5.423653</td>\n",
       "      <td>12.403005</td>\n",
       "      <td>-0.025637</td>\n",
       "      <td>-0.023349</td>\n",
       "      <td>-0.153411</td>\n",
       "      <td>-43.423539</td>\n",
       "      <td>-0.619655</td>\n",
       "    </tr>\n",
       "    <tr>\n",
       "      <th>3</th>\n",
       "      <td>0.155038</td>\n",
       "      <td>-0.105279</td>\n",
       "      <td>-0.810724</td>\n",
       "      <td>-0.2043</td>\n",
       "      <td>-0.030986</td>\n",
       "      <td>125.767443</td>\n",
       "      <td>0.179573</td>\n",
       "      <td>-2.423653</td>\n",
       "      <td>4.403005</td>\n",
       "      <td>-0.025637</td>\n",
       "      <td>-0.023349</td>\n",
       "      <td>-0.153411</td>\n",
       "      <td>-3.423539</td>\n",
       "      <td>-0.619655</td>\n",
       "    </tr>\n",
       "    <tr>\n",
       "      <th>4</th>\n",
       "      <td>0.155038</td>\n",
       "      <td>-0.105279</td>\n",
       "      <td>0.189276</td>\n",
       "      <td>-1.2043</td>\n",
       "      <td>-0.030986</td>\n",
       "      <td>-37.232557</td>\n",
       "      <td>0.179573</td>\n",
       "      <td>-3.423653</td>\n",
       "      <td>-4.596995</td>\n",
       "      <td>-0.025637</td>\n",
       "      <td>-0.023349</td>\n",
       "      <td>-0.153411</td>\n",
       "      <td>-8.923539</td>\n",
       "      <td>-0.619655</td>\n",
       "    </tr>\n",
       "    <tr>\n",
       "      <th>...</th>\n",
       "      <td>...</td>\n",
       "      <td>...</td>\n",
       "      <td>...</td>\n",
       "      <td>...</td>\n",
       "      <td>...</td>\n",
       "      <td>...</td>\n",
       "      <td>...</td>\n",
       "      <td>...</td>\n",
       "      <td>...</td>\n",
       "      <td>...</td>\n",
       "      <td>...</td>\n",
       "      <td>...</td>\n",
       "      <td>...</td>\n",
       "      <td>...</td>\n",
       "    </tr>\n",
       "    <tr>\n",
       "      <th>36270</th>\n",
       "      <td>1.155038</td>\n",
       "      <td>-0.105279</td>\n",
       "      <td>1.189276</td>\n",
       "      <td>3.7957</td>\n",
       "      <td>-0.030986</td>\n",
       "      <td>-0.232557</td>\n",
       "      <td>0.179573</td>\n",
       "      <td>0.576347</td>\n",
       "      <td>-12.596995</td>\n",
       "      <td>-0.025637</td>\n",
       "      <td>-0.023349</td>\n",
       "      <td>-0.153411</td>\n",
       "      <td>64.376461</td>\n",
       "      <td>0.380345</td>\n",
       "    </tr>\n",
       "    <tr>\n",
       "      <th>36271</th>\n",
       "      <td>0.155038</td>\n",
       "      <td>-0.105279</td>\n",
       "      <td>0.189276</td>\n",
       "      <td>0.7957</td>\n",
       "      <td>-0.030986</td>\n",
       "      <td>142.767443</td>\n",
       "      <td>0.179573</td>\n",
       "      <td>2.576347</td>\n",
       "      <td>1.403005</td>\n",
       "      <td>-0.025637</td>\n",
       "      <td>-0.023349</td>\n",
       "      <td>-0.153411</td>\n",
       "      <td>-12.473539</td>\n",
       "      <td>1.380345</td>\n",
       "    </tr>\n",
       "    <tr>\n",
       "      <th>36272</th>\n",
       "      <td>0.155038</td>\n",
       "      <td>-0.105279</td>\n",
       "      <td>1.189276</td>\n",
       "      <td>3.7957</td>\n",
       "      <td>-0.030986</td>\n",
       "      <td>62.767443</td>\n",
       "      <td>0.179573</td>\n",
       "      <td>-0.423653</td>\n",
       "      <td>-14.596995</td>\n",
       "      <td>-0.025637</td>\n",
       "      <td>-0.023349</td>\n",
       "      <td>-0.153411</td>\n",
       "      <td>-5.033539</td>\n",
       "      <td>1.380345</td>\n",
       "    </tr>\n",
       "    <tr>\n",
       "      <th>36273</th>\n",
       "      <td>0.155038</td>\n",
       "      <td>-0.105279</td>\n",
       "      <td>-0.810724</td>\n",
       "      <td>0.7957</td>\n",
       "      <td>-0.030986</td>\n",
       "      <td>-22.232557</td>\n",
       "      <td>0.179573</td>\n",
       "      <td>-3.423653</td>\n",
       "      <td>5.403005</td>\n",
       "      <td>-0.025637</td>\n",
       "      <td>-0.023349</td>\n",
       "      <td>-0.153411</td>\n",
       "      <td>-8.923539</td>\n",
       "      <td>-0.619655</td>\n",
       "    </tr>\n",
       "    <tr>\n",
       "      <th>36274</th>\n",
       "      <td>0.155038</td>\n",
       "      <td>-0.105279</td>\n",
       "      <td>0.189276</td>\n",
       "      <td>-0.2043</td>\n",
       "      <td>-0.030986</td>\n",
       "      <td>121.767443</td>\n",
       "      <td>0.179573</td>\n",
       "      <td>4.576347</td>\n",
       "      <td>14.403005</td>\n",
       "      <td>-0.025637</td>\n",
       "      <td>-0.023349</td>\n",
       "      <td>-0.153411</td>\n",
       "      <td>58.246461</td>\n",
       "      <td>-0.619655</td>\n",
       "    </tr>\n",
       "  </tbody>\n",
       "</table>\n",
       "<p>36275 rows × 14 columns</p>\n",
       "</div>"
      ],
      "text/plain": [
       "       no_of_adults  no_of_children  no_of_weekend_nights  no_of_week_nights  \\\n",
       "0          0.155038       -0.105279              0.189276            -0.2043   \n",
       "1          0.155038       -0.105279              1.189276             0.7957   \n",
       "2         -0.844962       -0.105279              1.189276            -1.2043   \n",
       "3          0.155038       -0.105279             -0.810724            -0.2043   \n",
       "4          0.155038       -0.105279              0.189276            -1.2043   \n",
       "...             ...             ...                   ...                ...   \n",
       "36270      1.155038       -0.105279              1.189276             3.7957   \n",
       "36271      0.155038       -0.105279              0.189276             0.7957   \n",
       "36272      0.155038       -0.105279              1.189276             3.7957   \n",
       "36273      0.155038       -0.105279             -0.810724             0.7957   \n",
       "36274      0.155038       -0.105279              0.189276            -0.2043   \n",
       "\n",
       "       required_car_parking_space   lead_time  arrival_year  arrival_month  \\\n",
       "0                       -0.030986  138.767443     -0.820427       2.576347   \n",
       "1                       -0.030986  -80.232557      0.179573       3.576347   \n",
       "2                       -0.030986  -84.232557      0.179573      -5.423653   \n",
       "3                       -0.030986  125.767443      0.179573      -2.423653   \n",
       "4                       -0.030986  -37.232557      0.179573      -3.423653   \n",
       "...                           ...         ...           ...            ...   \n",
       "36270                   -0.030986   -0.232557      0.179573       0.576347   \n",
       "36271                   -0.030986  142.767443      0.179573       2.576347   \n",
       "36272                   -0.030986   62.767443      0.179573      -0.423653   \n",
       "36273                   -0.030986  -22.232557      0.179573      -3.423653   \n",
       "36274                   -0.030986  121.767443      0.179573       4.576347   \n",
       "\n",
       "       arrival_date  repeated_guest  no_of_previous_cancellations  \\\n",
       "0        -13.596995       -0.025637                     -0.023349   \n",
       "1         -9.596995       -0.025637                     -0.023349   \n",
       "2         12.403005       -0.025637                     -0.023349   \n",
       "3          4.403005       -0.025637                     -0.023349   \n",
       "4         -4.596995       -0.025637                     -0.023349   \n",
       "...             ...             ...                           ...   \n",
       "36270    -12.596995       -0.025637                     -0.023349   \n",
       "36271      1.403005       -0.025637                     -0.023349   \n",
       "36272    -14.596995       -0.025637                     -0.023349   \n",
       "36273      5.403005       -0.025637                     -0.023349   \n",
       "36274     14.403005       -0.025637                     -0.023349   \n",
       "\n",
       "       no_of_previous_bookings_not_canceled  avg_price_per_room  \\\n",
       "0                                 -0.153411          -38.423539   \n",
       "1                                 -0.153411            3.256461   \n",
       "2                                 -0.153411          -43.423539   \n",
       "3                                 -0.153411           -3.423539   \n",
       "4                                 -0.153411           -8.923539   \n",
       "...                                     ...                 ...   \n",
       "36270                             -0.153411           64.376461   \n",
       "36271                             -0.153411          -12.473539   \n",
       "36272                             -0.153411           -5.033539   \n",
       "36273                             -0.153411           -8.923539   \n",
       "36274                             -0.153411           58.246461   \n",
       "\n",
       "       no_of_special_requests  \n",
       "0                   -0.619655  \n",
       "1                    0.380345  \n",
       "2                   -0.619655  \n",
       "3                   -0.619655  \n",
       "4                   -0.619655  \n",
       "...                       ...  \n",
       "36270                0.380345  \n",
       "36271                1.380345  \n",
       "36272                1.380345  \n",
       "36273               -0.619655  \n",
       "36274               -0.619655  \n",
       "\n",
       "[36275 rows x 14 columns]"
      ]
     },
     "execution_count": 32,
     "metadata": {},
     "output_type": "execute_result"
    }
   ],
   "source": [
    "# standardlize the dataframe\n",
    "df_std  = (df - df.mean()) / (df.std())\n",
    "df_std = df - df.mean()\n",
    "df_std\n",
    "# df_std.to_csv(\"full_dat.csv\")"
   ]
  },
  {
   "cell_type": "code",
   "execution_count": 33,
   "metadata": {
    "pycharm": {
     "name": "#%%\n"
    }
   },
   "outputs": [],
   "source": [
    "# run PCA\n",
    "n_components = 10\n",
    "pca = PCA(n_components=n_components)\n",
    "pca_fit = pca.fit_transform(df_std)\n",
    "df_pca = pd.DataFrame(data = pca_fit\n",
    "                      , columns = ['PC '+ str(i+1) for i in range(n_components)])"
   ]
  },
  {
   "cell_type": "code",
   "execution_count": 34,
   "metadata": {
    "pycharm": {
     "name": "#%%\n"
    }
   },
   "outputs": [
    {
     "data": {
      "image/png": "[encoded data removed]",
      "text/plain": [
       "<Figure size 640x480 with 1 Axes>"
      ]
     },
     "metadata": {},
     "output_type": "display_data"
    }
   ],
   "source": [
    "# check the Screen plot\n",
    "ax = plt.figure().gca()\n",
    "ax.plot(pca.explained_variance_)\n",
    "ax.xaxis.set_major_locator(MaxNLocator(integer=True))\n",
    "plt.xlabel('Principal Component')\n",
    "plt.ylabel('Eigenvalue')\n",
    "plt.axhline(y=1, linewidth=1, color='b', alpha=0.5)\n",
    "plt.title('Screen Plot of PCA: Component Eigenvalues')\n",
    "plt.show()"
   ]
  },
  {
   "cell_type": "code",
   "execution_count": 35,
   "metadata": {
    "pycharm": {
     "name": "#%%\n"
    }
   },
   "outputs": [
    {
     "data": {
      "image/png": "[encoded data removed]",
      "text/plain": [
       "<Figure size 640x480 with 1 Axes>"
      ]
     },
     "metadata": {},
     "output_type": "display_data"
    }
   ],
   "source": [
    "# check the variance explained from PCA\n",
    "ax = plt.figure().gca()\n",
    "pca = PCA().fit(df_std)\n",
    "ax.plot(np.cumsum(pca.explained_variance_ratio_))\n",
    "ax.xaxis.set_major_locator(MaxNLocator(integer=True))\n",
    "plt.axvline(x=1, linewidth=1, color='b', alpha=0.5)\n",
    "plt.xlabel('Number of Components')\n",
    "plt.ylabel('Cumulative Explained Variance')\n",
    "plt.show()"
   ]
  },
  {
   "cell_type": "code",
   "execution_count": 36,
   "metadata": {
    "pycharm": {
     "name": "#%%\n"
    }
   },
   "outputs": [
    {
     "name": "stdout",
     "output_type": "stream",
     "text": [
      "arrival_date                           -0.944745\n",
      "no_of_previous_cancellations           -0.077009\n",
      "no_of_special_requests                 -0.028567\n",
      "required_car_parking_space             -0.026062\n",
      "no_of_previous_bookings_not_canceled   -0.012734\n",
      "no_of_adults                            0.000564\n",
      "no_of_weekend_nights                    0.001182\n",
      "no_of_week_nights                       0.001534\n",
      "avg_price_per_room                      0.004463\n",
      "no_of_children                          0.004517\n",
      "lead_time                               0.036498\n",
      "arrival_year                            0.093743\n",
      "arrival_month                           0.132405\n",
      "repeated_guest                          0.268653\n",
      "Name: 0, dtype: float64\n"
     ]
    }
   ],
   "source": [
    "# check the loading for PCA elements\n",
    "loadings = pca.components_\n",
    "results = pd.DataFrame(loadings)\n",
    "results.index=df.columns\n",
    "print(results[0].sort_values(ascending=True))"
   ]
  },
  {
   "cell_type": "code",
   "execution_count": 37,
   "metadata": {
    "pycharm": {
     "name": "#%%\n"
    }
   },
   "outputs": [],
   "source": [
    "# run PCA with 1 component\n",
    "from sklearn.decomposition import PCA\n",
    "pca = PCA(n_components=1)\n",
    "pca.fit(df_std)\n",
    "x_pca = pca.transform(df_std)\n",
    "\n"
   ]
  },
  {
   "cell_type": "code",
   "execution_count": 38,
   "metadata": {
    "pycharm": {
     "name": "#%%\n"
    }
   },
   "outputs": [],
   "source": [
    "# output the csv file\n",
    "x_pca_df = pd.DataFrame(x_pca)\n",
    "x_pca_df.to_csv(\"PCA_dat.csv\")"
   ]
  }
 ],
 "metadata": {
  "kernelspec": {
   "display_name": "Python 3 (ipykernel)",
   "language": "python",
   "name": "python3"
  },
  "language_info": {
   "codemirror_mode": {
    "name": "ipython",
    "version": 3
   },
   "file_extension": ".py",
   "mimetype": "text/x-python",
   "name": "python",
   "nbconvert_exporter": "python",
   "pygments_lexer": "ipython3",
   "version": "3.9.12"
  }
 },
 "nbformat": 4,
 "nbformat_minor": 1
}
